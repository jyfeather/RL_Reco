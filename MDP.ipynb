{
 "cells": [
  {
   "cell_type": "markdown",
   "metadata": {},
   "source": [
    "# MDP (Markov Decision Process)\n",
    "\n",
    "马儿可夫决策过程是强化学习的最基本理论模型。 一般地， MDP可以由一个四元组 <S, A, R, T> 表示：\n",
    "\n",
    "1. S 为状态空间 （state space, 或者 observation）， 包含了 agent 可能感知到的所有环境状态。\n",
    "2. A 为动作空间 （action space）， 包含了 agent 在每个状态上可以采取的所有动作。\n",
    "3. Ｒ 为奖励函数 （ｒｅｗａｒｄ ｆｕｎｃｔｉｏｎ）， $R(s,a,s')$ 表示在状态 s 上执行动作 a，　病转移到状态 s'时，　ａｇｅｎｔ从环境获得的奖赏值。\n",
    "4. T 为环境的状态转移函数(state transition function), T(s,a,s')表示在状态s上执行动作a, 并转移到状态s'的概率。"
   ]
  },
  {
   "cell_type": "markdown",
   "metadata": {},
   "source": [
    "## MDP在电商领域的建模过程\n",
    "![rl framework](pics/rl_framework.png)\n",
    "\n",
    "该图是经典的reward based的强化学习的框架图，对应到电商领域（以阿里搜索为例子），其中各个对象对应于：\n",
    "\n",
    "| 概念 | 电商搜索对应的角色 |\n",
    "| --- | --- |\n",
    "| Agent | 搜索引擎 |\n",
    "| Environment | 用户 |\n",
    "| Action | 排序决策 |\n",
    "| State | 用户的状态（最近点击的各个商品的信息，用户本身的信息等） |\n",
    "| Reward | 点击购买的信号 |\n"
   ]
  },
  {
   "cell_type": "markdown",
   "metadata": {},
   "source": [
    "## 电商领域的增强学习过程示例\n",
    "![decision](pics/decision_seq.png)\n",
    "\n",
    "1. 第一次pv请求\n",
    "    1. Agent 做出了决策 $a_1$\n",
    "    2. 第一次pv\n",
    "    3. 用户没有点击当前页面任何商品\n",
    "    4. Agent 获得了负向的强化激励\n",
    "2. 第二次pv请求\n",
    "    1. Agent 做出了决策 $a_2$\n",
    "    2. 第二次pv\n",
    "    3. 用户点击了其中3个商品\n",
    "    4. Agent 获得了正向的强化激励\n",
    "3. 第三次pv请求\n",
    "    1. ..."
   ]
  },
  {
   "cell_type": "markdown",
   "metadata": {},
   "source": [
    "## 电商场景下状态的定义（ｓｔａｔｅｓ）\n",
    "\n",
    "$$s=(\\textrm{price}_1, \\textrm{cvr}_1, \\textrm{sale}_1, \\ldots, \\textrm{price}_n, \\textrm{cvr}_n, \\textrm{sale}_n, \\textrm{power}, \\textrm{item}, \\textrm{shop})$$\n",
    "\n",
    "- 最近一段时间内点击商品的特征（包括：价格、转化率、销量等）\n",
    "- 为了区分不同群体的用户，还包括了用户的长期特征（包括：购买力，偏好宝贝，偏好店铺特征）"
   ]
  },
  {
   "cell_type": "code",
   "execution_count": null,
   "metadata": {},
   "outputs": [],
   "source": []
  }
 ],
 "metadata": {
  "kernelspec": {
   "display_name": "Python 3",
   "language": "python",
   "name": "python3"
  },
  "language_info": {
   "codemirror_mode": {
    "name": "ipython",
    "version": 3
   },
   "file_extension": ".py",
   "mimetype": "text/x-python",
   "name": "python",
   "nbconvert_exporter": "python",
   "pygments_lexer": "ipython3",
   "version": "3.5.5"
  }
 },
 "nbformat": 4,
 "nbformat_minor": 2
}
